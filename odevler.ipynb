{
 "cells": [
  {
   "cell_type": "markdown",
   "id": "ce69170c",
   "metadata": {},
   "source": [
    "## VERİ GÖRSELEŞTİRME ÖDEVİ \n",
    "\n",
    "Bu notebook'ta 50_Startups.csv veri seti üzerinde görevleri gerçekleştireceğiz.\n",
    "Önce gerekli kütüphaneleri yükleyip veri setini inceleyelim."
   ]
  },
  {
   "cell_type": "markdown",
   "id": "e3aa2442",
   "metadata": {},
   "source": [
    "->Görev 1: R&D Harcaması İle Kar İlişkisi\n",
    "Bu hücrede, Ar-Ge harcaması ile kâr arasındaki ilişkiyi scatter plot ile görselleştiriyoruz.\n"
   ]
  },
  {
   "cell_type": "code",
   "execution_count": null,
   "id": "cf491ea3",
   "metadata": {},
   "outputs": [],
   "source": [
    "import pandas as pd\n",
    "import matplotlib.pyplot as plt\n",
    "import seaborn as sns\n",
    "\n",
    "\n",
    "df = pd.read_csv(r\"C:\\Users\\EXCALIBUR\\OneDrive\\Masaüstü\\Programlama\\Proje\\50_Startups.csv\")\n",
    "\n",
    "\n",
    "print(df.head())\n",
    "\n",
    "plt.figure(figsize=(8,6))\n",
    "plt.scatter(df[\"R&D Spend\"], df[\"Profit\"], alpha=0.7, color=\"blue\")\n",
    "\n",
    "plt.xlabel(\"R&D Spend (Ar-Ge Harcaması)\")\n",
    "plt.ylabel(\"Profit (Kâr)\")\n",
    "plt.title(\"R&D Harcaması ile Kâr Arasındaki İlişki\")\n",
    "\n",
    "plt.grid(True)\n",
    "plt.show()\n"
   ]
  },
  {
   "cell_type": "markdown",
   "id": "84ead0cb",
   "metadata": {},
   "source": [
    "Grafikte, R&D harcaması arttıkça kârın da arttığı görülüyor. Bu pozitif ilişki, Ar-Ge yatırımının kârı artırabileceğini gösteriyor. Birkaç nokta trendin dışında; bunlar olası uç değerler (outlier) olabilir.\n"
   ]
  },
  {
   "cell_type": "markdown",
   "id": "ed5397d9",
   "metadata": {},
   "source": [
    "-> Görev 2: Yönetim Harcaması ile Kâr İlişkisi\n",
    "Scatter plot ile yönetim harcaması ve kâr arasındaki ilişkiyi inceleyeceğiz."
   ]
  },
  {
   "cell_type": "code",
   "execution_count": null,
   "id": "5023b7d8",
   "metadata": {},
   "outputs": [],
   "source": [
    "plt.figure(figsize=(8,6))\n",
    "plt.scatter(df[\"Administration\"], df[\"Profit\"], alpha=0.7, color=\"green\")\n",
    "plt.xlabel(\"Administration (Yönetim Harcaması)\")\n",
    "plt.ylabel(\"Profit (Kâr)\")\n",
    "plt.title(\"Yönetim Harcaması ile Kâr Arasındaki İlişki\")\n",
    "plt.grid(True)\n",
    "plt.show()"
   ]
  },
  {
   "cell_type": "markdown",
   "id": "138eaebc",
   "metadata": {},
   "source": [
    "Grafikte net bir ilişki gözlemlenmiyor; yönetim harcaması ile kâr arasında belirgin bir artış veya azalış görünmüyor.\n",
    "Bu durum, yönetim harcamasının kâr üzerinde doğrudan bir etkisinin olmadığını veya diğer faktörlere bağlı olduğunu gösterebilir.\n"
   ]
  },
  {
   "cell_type": "markdown",
   "id": "39eb445a",
   "metadata": {},
   "source": [
    "-> Görev 3: Eyaletlere Göre Ortalama Kar\n",
    "Bar chart kullanarak her eyaletin ortalama kârını karşılaştıracağız."
   ]
  },
  {
   "cell_type": "code",
   "execution_count": null,
   "id": "3dd0c960",
   "metadata": {},
   "outputs": [],
   "source": [
    "plt.figure(figsize=(8,6))\n",
    "state_means = df.groupby(\"State\")[\"Profit\"].mean().reset_index()\n",
    "sns.barplot(x=\"State\", y=\"Profit\", data=state_means, palette=\"Set2\")\n",
    "plt.title(\"Eyaletlere Göre Ortalama Kâr\")\n",
    "plt.ylabel(\"Ortalama Kâr\")\n",
    "plt.xlabel(\"Eyalet\")\n",
    "plt.show()"
   ]
  },
  {
   "cell_type": "markdown",
   "id": "e249b6ba",
   "metadata": {},
   "source": [
    "Grafik gösteriyor ki, bazı eyaletlerde şirketler diğerlerine göre daha yüksek ortalama kâr elde etmiş. \n",
    "Bu, bölgesel farklılıkların kâr üzerinde etkili olabileceğini düşündürüyor.\n"
   ]
  },
  {
   "cell_type": "markdown",
   "id": "3ea6f6e5",
   "metadata": {},
   "source": [
    "-> Görev 4: Harcama Türlerinin Dağılımı\n",
    "R&D, Yönetim ve Pazarlama harcamalarının dağılımını boxplot ile karşılaştıracağız."
   ]
  },
  {
   "cell_type": "code",
   "execution_count": null,
   "id": "59beca08",
   "metadata": {},
   "outputs": [],
   "source": [
    "plt.figure(figsize=(8,6))\n",
    "sns.boxplot(data=df[[\"R&D Spend\", \"Administration\", \"Marketing Spend\"]])\n",
    "plt.title(\"Harcama Türlerinin Dağılımı (Boxplot)\")\n",
    "plt.ylabel(\"Harcama Tutarı\")\n",
    "plt.show()"
   ]
  },
  {
   "cell_type": "markdown",
   "id": "f3c623b6",
   "metadata": {},
   "source": [
    "Boxplot gösteriyor ki:\n",
    "- R&D harcamaları genellikle daha yüksek ve değişken, birkaç uç değer bulunuyor.\n",
    "- Yönetim harcamaları daha dar bir dağılıma sahip.\n",
    "- Pazarlama harcamaları orta seviyede, bazı uç değerler mevcut.\n",
    "Bu, şirketlerin bütçe dağılımı hakkında fikir veriyor.\n"
   ]
  },
  {
   "cell_type": "markdown",
   "id": "48ad87ee",
   "metadata": {},
   "source": [
    "## Decision Tree Ödevi (dava_sonuclari.csv)"
   ]
  },
  {
   "cell_type": "markdown",
   "id": "37813a2c",
   "metadata": {},
   "source": [
    "-> Görev 1: Eksik veya aykırı değerleri kontrol et"
   ]
  },
  {
   "cell_type": "code",
   "execution_count": null,
   "id": "358fcb75",
   "metadata": {},
   "outputs": [],
   "source": [
    "import pandas as pd\n",
    "from sklearn.model_selection import train_test_split\n",
    "from sklearn.tree import DecisionTreeClassifier, plot_tree\n",
    "from sklearn.metrics import accuracy_score, precision_score, recall_score, f1_score\n",
    "import matplotlib.pyplot as plt\n"
   ]
  },
  {
   "cell_type": "markdown",
   "id": "2a67e5ad",
   "metadata": {},
   "source": [
    "Kütüphaneler import edildi."
   ]
  },
  {
   "cell_type": "code",
   "execution_count": null,
   "id": "9a5bac78",
   "metadata": {},
   "outputs": [],
   "source": [
    "df = pd.read_csv(r\"C:\\Users\\EXCALIBUR\\OneDrive\\Masaüstü\\Programlama\\Proje\\dava_sonuclari.csv\")"
   ]
  },
  {
   "cell_type": "markdown",
   "id": "a1448643",
   "metadata": {},
   "source": [
    "Veri yükleme yapıldı."
   ]
  },
  {
   "cell_type": "code",
   "execution_count": null,
   "id": "07feb3d7",
   "metadata": {},
   "outputs": [],
   "source": [
    "print(df.isnull().sum())"
   ]
  },
  {
   "cell_type": "markdown",
   "id": "76266119",
   "metadata": {},
   "source": [
    "Eksik değerler kontrol edilir."
   ]
  },
  {
   "cell_type": "code",
   "execution_count": null,
   "id": "09ecebc1",
   "metadata": {},
   "outputs": [],
   "source": [
    "df = df.dropna()"
   ]
  },
  {
   "cell_type": "markdown",
   "id": "b2d95a0f",
   "metadata": {},
   "source": [
    "Eksik değerler kaldırıldı."
   ]
  },
  {
   "cell_type": "code",
   "execution_count": null,
   "id": "f8bdf7ca",
   "metadata": {},
   "outputs": [],
   "source": [
    "numeric_cols = df.select_dtypes(include='number').columns\n",
    "print(df[numeric_cols].describe())"
   ]
  },
  {
   "cell_type": "markdown",
   "id": "37f1f5a0",
   "metadata": {},
   "source": [
    "Sayısal sütunlar için aykırı değer kontrolü"
   ]
  },
  {
   "cell_type": "markdown",
   "id": "b5e1c3a1",
   "metadata": {},
   "source": [
    "-> Görev 2: Eğitim ve test seti"
   ]
  },
  {
   "cell_type": "code",
   "execution_count": null,
   "id": "dc82c6f1",
   "metadata": {},
   "outputs": [],
   "source": [
    "X = df.drop(\"karar\", axis=1)   # karar = sınıf sütunu\n",
    "y = df[\"karar\"]\n",
    "X_train, X_test, y_train, y_test = train_test_split(X, y, test_size=0.2, random_state=42)"
   ]
  },
  {
   "cell_type": "markdown",
   "id": "7e7ea626",
   "metadata": {},
   "source": [
    "Veriyi eğitim ve test seti olarak ayırma (%80 eğitim ,%20 test)"
   ]
  },
  {
   "cell_type": "markdown",
   "id": "6e237774",
   "metadata": {},
   "source": [
    "-> Görev 3: Decision Tree Modeli"
   ]
  },
  {
   "cell_type": "code",
   "execution_count": null,
   "id": "772a3ac2",
   "metadata": {},
   "outputs": [],
   "source": [
    "dt_model = DecisionTreeClassifier(random_state=42)\n",
    "dt_model.fit(X_train, y_train)"
   ]
  },
  {
   "cell_type": "markdown",
   "id": "f0baea18",
   "metadata": {},
   "source": [
    "Model oluşturma ve eğitim"
   ]
  },
  {
   "cell_type": "markdown",
   "id": "581db4e4",
   "metadata": {},
   "source": [
    "-> Görev 4: Metrik hesaplama"
   ]
  },
  {
   "cell_type": "code",
   "execution_count": null,
   "id": "a113f9c3",
   "metadata": {},
   "outputs": [],
   "source": [
    "# Tahmin\n",
    "y_pred = dt_model.predict(X_test)\n",
    "\n",
    "# Metrikler\n",
    "print(\"Accuracy:\", accuracy_score(y_test, y_pred))\n",
    "print(\"Precision:\", precision_score(y_test, y_pred, average=\"weighted\"))\n",
    "print(\"Recall:\", recall_score(y_test, y_pred, average=\"weighted\"))\n",
    "print(\"F1-Score:\", f1_score(y_test, y_pred, average=\"weighted\"))"
   ]
  },
  {
   "cell_type": "markdown",
   "id": "feace200",
   "metadata": {},
   "source": [
    "-> Görev 5: Karar Ağacı Görselleştirme"
   ]
  },
  {
   "cell_type": "code",
   "execution_count": null,
   "id": "d29d24d8",
   "metadata": {},
   "outputs": [],
   "source": [
    "plt.figure(figsize=(20,10))\n",
    "plot_tree(dt_model, feature_names=X.columns, class_names=dt_model.classes_, filled=True, rounded=True)\n",
    "plt.show()"
   ]
  },
  {
   "cell_type": "markdown",
   "id": "b9ab3a67",
   "metadata": {},
   "source": [
    "Ağacın üst düğümleri karar verirken daha etkili özellikleri gösterir.\n",
    "\n",
    "Derinlik arttıkça detaylar artar ancak overfitting riski oluşur."
   ]
  },
  {
   "cell_type": "markdown",
   "id": "5804d4a7",
   "metadata": {},
   "source": [
    "## K-Means Kümeleme Ödevi (dava.csv)"
   ]
  },
  {
   "cell_type": "markdown",
   "id": "69309220",
   "metadata": {},
   "source": [
    "-> Görev 1: Uygun özellikleri seç"
   ]
  },
  {
   "cell_type": "code",
   "execution_count": null,
   "id": "1c7ae5ba",
   "metadata": {},
   "outputs": [],
   "source": [
    "from sklearn.preprocessing import StandardScaler\n",
    "from sklearn.cluster import KMeans\n",
    "import seaborn as sns\n",
    "\n",
    "df2 = pd.read_csv(r\"C:\\Users\\EXCALIBUR\\OneDrive\\Masaüstü\\Programlama\\Proje\\dava.csv\")\n",
    "\n",
    "X2 = df2.select_dtypes(include='number')\n",
    "\n",
    "scaler = StandardScaler()\n",
    "X_scaled = scaler.fit_transform(X2)"
   ]
  },
  {
   "cell_type": "markdown",
   "id": "c53f1b83",
   "metadata": {},
   "source": [
    "-> Görev 2: Elbow Yöntemi ile Küme Sayısı"
   ]
  },
  {
   "cell_type": "code",
   "execution_count": null,
   "id": "e8cc7acb",
   "metadata": {},
   "outputs": [],
   "source": [
    "inertia = []\n",
    "K_range = range(1, 11)\n",
    "for k in K_range:\n",
    "    km = KMeans(n_clusters=k, random_state=42)\n",
    "    km.fit(X_scaled)\n",
    "    inertia.append(km.inertia_)\n",
    "\n",
    "# Grafik\n",
    "plt.figure(figsize=(8,5))\n",
    "plt.plot(K_range, inertia, marker='o')\n",
    "plt.xlabel(\"Küme Sayısı\")\n",
    "plt.ylabel(\"Inertia\")\n",
    "plt.title(\"Elbow Yöntemi ile Optimal Küme Sayısı\")\n",
    "plt.show()"
   ]
  },
  {
   "cell_type": "markdown",
   "id": "bcbd0357",
   "metadata": {},
   "source": [
    "“Dirsek noktası”nın olduğu k değeri optimal küme sayısıdır."
   ]
  },
  {
   "cell_type": "markdown",
   "id": "9d642dd5",
   "metadata": {},
   "source": [
    "-> Görev 3: K-Means ile Kümeleme"
   ]
  },
  {
   "cell_type": "code",
   "execution_count": null,
   "id": "68b87b83",
   "metadata": {},
   "outputs": [],
   "source": [
    "optimal_k = 3 \n",
    "kmeans = KMeans(n_clusters=optimal_k, random_state=42)\n",
    "clusters = kmeans.fit_predict(X_scaled)\n",
    "\n",
    "df2['Cluster'] = clusters"
   ]
  },
  {
   "cell_type": "markdown",
   "id": "9566ceb8",
   "metadata": {},
   "source": [
    "-> Görev 4: Sonuçların Görselleştirilmesi"
   ]
  },
  {
   "cell_type": "code",
   "execution_count": null,
   "id": "bdd77541",
   "metadata": {},
   "outputs": [],
   "source": [
    "plt.figure(figsize=(8,6))\n",
    "sns.scatterplot(x=X2.iloc[:,0], y=X2.iloc[:,1], hue=df2['Cluster'], palette='Set1')\n",
    "plt.title(\"Kümeleme Sonuçları (İlk 2 Özellik)\")\n",
    "plt.show()"
   ]
  },
  {
   "cell_type": "markdown",
   "id": "2703204b",
   "metadata": {},
   "source": [
    "Her renk bir kümeyi temsil eder.\n",
    "Küme içi benzerlik ve kümeler arası farklılık gözlemlenebilir."
   ]
  }
 ],
 "metadata": {
  "kernelspec": {
   "display_name": "Python 3 (ipykernel)",
   "language": "python",
   "name": "python3"
  },
  "language_info": {
   "codemirror_mode": {
    "name": "ipython",
    "version": 3
   },
   "file_extension": ".py",
   "mimetype": "text/x-python",
   "name": "python",
   "nbconvert_exporter": "python",
   "pygments_lexer": "ipython3",
   "version": "3.11.5"
  }
 },
 "nbformat": 4,
 "nbformat_minor": 5
}
